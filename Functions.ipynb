{
 "cells": [
  {
   "cell_type": "code",
   "execution_count": 30,
   "source": [
    "def max_two(x,y):\r\n",
    "    if x > y:\r\n",
    "        return x\r\n",
    "    return y\r\n",
    "\r\n",
    "print(max_two(6,8))"
   ],
   "outputs": [
    {
     "output_type": "stream",
     "name": "stdout",
     "text": [
      "8\n"
     ]
    }
   ],
   "metadata": {}
  },
  {
   "cell_type": "code",
   "execution_count": 33,
   "source": [
    "def max_three(x,y,z):\r\n",
    "    return max_two(z,max_two(x,y))\r\n",
    "print(max_three(5,12,10))"
   ],
   "outputs": [
    {
     "output_type": "stream",
     "name": "stdout",
     "text": [
      "12\n"
     ]
    }
   ],
   "metadata": {}
  },
  {
   "cell_type": "code",
   "execution_count": 34,
   "source": [
    "def sum(nums):\r\n",
    "    total=0\r\n",
    "    for x in nums:\r\n",
    "        total +=x\r\n",
    "    return total\r\n",
    "\r\n",
    "nums=[7,6,5]\r\n",
    "print(sum(nums))"
   ],
   "outputs": [
    {
     "output_type": "stream",
     "name": "stdout",
     "text": [
      "18\n"
     ]
    }
   ],
   "metadata": {}
  },
  {
   "cell_type": "code",
   "execution_count": 35,
   "source": [
    "def multiply(nums):\r\n",
    "    res=1\r\n",
    "    for x in nums:\r\n",
    "        res = res * x\r\n",
    "    return res\r\n",
    "\r\n",
    "nums=(5,6,7)\r\n",
    "print(multiply(nums))"
   ],
   "outputs": [
    {
     "output_type": "stream",
     "name": "stdout",
     "text": [
      "210\n"
     ]
    }
   ],
   "metadata": {}
  },
  {
   "cell_type": "code",
   "execution_count": 36,
   "source": [
    "def reverse(word):\r\n",
    "    new_word=''\r\n",
    "    index=len(word)\r\n",
    "    while index > 0 :\r\n",
    "        new_word += word[index-1]\r\n",
    "        index = index -1\r\n",
    "    return new_word\r\n",
    "\r\n",
    "print(reverse('lynntech'))"
   ],
   "outputs": [
    {
     "output_type": "stream",
     "name": "stdout",
     "text": [
      "hcetnnyl\n"
     ]
    }
   ],
   "metadata": {}
  },
  {
   "cell_type": "code",
   "execution_count": 37,
   "source": [
    "def factorial(num):\r\n",
    "    if num ==0:\r\n",
    "        return 1\r\n",
    "    else:\r\n",
    "        return num * factorial(num-1)\r\n",
    "\r\n",
    "print(factorial(5))"
   ],
   "outputs": [
    {
     "output_type": "stream",
     "name": "stdout",
     "text": [
      "120\n"
     ]
    }
   ],
   "metadata": {}
  },
  {
   "cell_type": "code",
   "execution_count": 38,
   "source": [
    "def unique(l):\r\n",
    "    x = []\r\n",
    "    for a in l:\r\n",
    "        if a not in x:\r\n",
    "            x.append(a)\r\n",
    "    return x\r\n",
    "\r\n",
    "print(unique([1,1,2,4,4]))"
   ],
   "outputs": [
    {
     "output_type": "stream",
     "name": "stdout",
     "text": [
      "[1, 2, 4]\n"
     ]
    }
   ],
   "metadata": {}
  },
  {
   "cell_type": "code",
   "execution_count": 39,
   "source": [
    "def increment(number,by):\r\n",
    "    return number+by\r\n",
    "\r\n",
    "increment(4,3)"
   ],
   "outputs": [
    {
     "output_type": "execute_result",
     "data": {
      "text/plain": [
       "7"
      ]
     },
     "metadata": {},
     "execution_count": 39
    }
   ],
   "metadata": {}
  },
  {
   "cell_type": "code",
   "execution_count": 40,
   "source": [
    "def even (sample):\r\n",
    "    lst=[]\r\n",
    "    for x in sample:\r\n",
    "        if x % 2 == 0:\r\n",
    "            lst.append(x)\r\n",
    "    return lst\r\n",
    "\r\n",
    "even([1,2,3,4,5])"
   ],
   "outputs": [
    {
     "output_type": "execute_result",
     "data": {
      "text/plain": [
       "[2, 4]"
      ]
     },
     "metadata": {},
     "execution_count": 40
    }
   ],
   "metadata": {}
  },
  {
   "cell_type": "code",
   "execution_count": 18,
   "source": [
    "def square ():\r\n",
    "    thanks=[]\r\n",
    "    for i in range (1,21):\r\n",
    "        thanks.append(i**2)\r\n",
    "    print(thanks)\r\n",
    "square()"
   ],
   "outputs": [
    {
     "output_type": "stream",
     "name": "stdout",
     "text": [
      "[1, 4, 9, 16, 25, 36, 49, 64, 81, 100, 121, 144, 169, 196, 225, 256, 289, 324, 361, 400]\n"
     ]
    }
   ],
   "metadata": {}
  },
  {
   "cell_type": "code",
   "execution_count": 41,
   "source": [
    "def pascal(n):\r\n",
    "    bil=[1]\r\n",
    "    y=[0]\r\n",
    "    for i in range(max(n,0)):\r\n",
    "        print(bil)\r\n",
    "        bil=[l+r for l, r in zip(bil+y, y+bil)]\r\n",
    "    return n>=1\r\n",
    "\r\n",
    "pascal(5)"
   ],
   "outputs": [
    {
     "output_type": "stream",
     "name": "stdout",
     "text": [
      "[1]\n",
      "[1, 1]\n",
      "[1, 2, 1]\n",
      "[1, 3, 3, 1]\n",
      "[1, 4, 6, 4, 1]\n"
     ]
    },
    {
     "output_type": "execute_result",
     "data": {
      "text/plain": [
       "True"
      ]
     },
     "metadata": {},
     "execution_count": 41
    }
   ],
   "metadata": {}
  },
  {
   "cell_type": "code",
   "execution_count": 42,
   "source": [
    "n = 5\r\n",
    " \r\n",
    "for i in range(1, n+1):\r\n",
    "    for j in range(0, n-i+1):\r\n",
    "        print(' ', end='')\r\n",
    " \r\n",
    "    # first element is always 1\r\n",
    "    C = 1\r\n",
    "    for j in range(1, i+1):\r\n",
    " \r\n",
    "        # first value in a line is always 1\r\n",
    "        print(' ', C, sep='', end='')\r\n",
    " \r\n",
    "        # using Binomial Coefficient\r\n",
    "        C = C * (i - j) // j\r\n",
    "    print()"
   ],
   "outputs": [
    {
     "output_type": "stream",
     "name": "stdout",
     "text": [
      "      1\n",
      "     1 1\n",
      "    1 2 1\n",
      "   1 3 3 1\n",
      "  1 4 6 4 1\n"
     ]
    }
   ],
   "metadata": {}
  }
 ],
 "metadata": {
  "orig_nbformat": 4,
  "language_info": {
   "name": "python",
   "version": "3.8.3",
   "mimetype": "text/x-python",
   "codemirror_mode": {
    "name": "ipython",
    "version": 3
   },
   "pygments_lexer": "ipython3",
   "nbconvert_exporter": "python",
   "file_extension": ".py"
  },
  "kernelspec": {
   "name": "python3",
   "display_name": "Python 3.8.3 64-bit ('base': conda)"
  },
  "interpreter": {
   "hash": "46182d5f787c7496ac3d2ccd0c5d8bf41bffd3ac5e5e93146af501a7f382c533"
  }
 },
 "nbformat": 4,
 "nbformat_minor": 2
}